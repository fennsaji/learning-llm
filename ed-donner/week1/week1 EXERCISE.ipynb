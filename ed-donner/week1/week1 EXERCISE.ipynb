{
 "cells": [
  {
   "cell_type": "markdown",
   "id": "fe12c203-e6a6-452c-a655-afb8a03a4ff5",
   "metadata": {},
   "source": [
    "# End of week 1 exercise\n",
    "\n",
    "To demonstrate your familiarity with OpenAI API, and also Ollama, build a tool that takes a technical question,  \n",
    "and responds with an explanation. This is a tool that you will be able to use yourself during the course!"
   ]
  },
  {
   "cell_type": "code",
   "execution_count": 2,
   "id": "c1070317-3ed9-4659-abe3-828943230e03",
   "metadata": {},
   "outputs": [],
   "source": [
    "# imports\n",
    "import os\n",
    "import requests\n",
    "import json\n",
    "from typing import List\n",
    "from dotenv import load_dotenv\n",
    "from IPython.display import Markdown, display, update_display\n",
    "from openai import OpenAI"
   ]
  },
  {
   "cell_type": "code",
   "execution_count": 8,
   "id": "4a456906-915a-4bfd-bb9d-57e505c5093f",
   "metadata": {},
   "outputs": [],
   "source": [
    "# constants\n",
    "\n",
    "MODEL_GPT = 'gpt-4o-mini'\n",
    "MODEL_LLAMA = 'gemma3:4b'"
   ]
  },
  {
   "cell_type": "code",
   "execution_count": 4,
   "id": "a8d7923c-5f28-4c30-8556-342d7c8497c1",
   "metadata": {},
   "outputs": [
    {
     "name": "stdout",
     "output_type": "stream",
     "text": [
      "API key looks good so far\n"
     ]
    }
   ],
   "source": [
    "# set up environment\n",
    "load_dotenv(override=True)\n",
    "api_key = os.getenv('OPENAI_API_KEY')\n",
    "\n",
    "if api_key and api_key.startswith('sk-proj-') and len(api_key)>10:\n",
    "    print(\"API key looks good so far\")\n",
    "else:\n",
    "    print(\"There might be a problem with your API key? Please visit the troubleshooting notebook!\")\n"
   ]
  },
  {
   "cell_type": "code",
   "execution_count": 5,
   "id": "3f0d0137-52b0-47a8-81a8-11a90a010798",
   "metadata": {},
   "outputs": [],
   "source": [
    "# here is the question; type over this to ask something new\n",
    "\n",
    "question = \"\"\"\n",
    "Please explain what this code does and why:\n",
    "yield from {book.get(\"author\") for book in books if book.get(\"author\")}\n",
    "\"\"\""
   ]
  },
  {
   "cell_type": "code",
   "execution_count": 7,
   "id": "60ce7000-a4a5-4cce-a261-e75ef45063b4",
   "metadata": {},
   "outputs": [
    {
     "data": {
      "text/markdown": [
       "The line of code you've shared uses Python's `yield from` statement combined with a set comprehension to generate a series of values. Let's break it down:\n",
       "\n",
       "1. **`{... for book in books if book.get(\"author\")}`**: This is a set comprehension that iterates over a collection named `books`. For each `book` in `books`, it checks whether the key `\"author\"` exists and has a truthy value (using `book.get(\"author\")`). If the key exists and the value is not `None`, `False`, or any other value that evaluates to `False`, it adds that author's name to a set. The use of set comprehension ensures that the resultant collection of authors will not contain duplicates.\n",
       "\n",
       "2. **`yield from ...`**: The `yield from` statement is used in Python generators. It allows one generator to delegate part of its operations to another iterable. When you yield from an iterable, it produces each value from that iterable one at a time to the caller, while also maintaining the state of the generator. Essentially, this allows for more organized code when working with generators.\n",
       "\n",
       "### Purpose of the Combined Elements\n",
       "Given the way the code is structured, here's what the entire line does:\n",
       "\n",
       "- It collects unique authors from a list of `books`, where each `book` is expected to be a dictionary that might contain an `\"author\"` key.\n",
       "- It yields each unique author one by one when the generator is called.\n",
       "\n",
       "### Example\n",
       "If `books` looks like this:\n",
       "python\n",
       "books = [\n",
       "    {\"title\": \"Book 1\", \"author\": \"Author A\"},\n",
       "    {\"title\": \"Book 2\", \"author\": \"Author B\"},\n",
       "    {\"title\": \"Book 3\", \"author\": \"Author A\"},  # Duplicate author\n",
       "    {\"title\": \"Book 4\"}  # No author\n",
       "]\n",
       "\n",
       "\n",
       "The code would effectively yield:\n",
       "- \"Author A\"\n",
       "- \"Author B\"\n",
       "\n",
       "### Why Use This Code?\n",
       "1. **Efficiency**: Using a set comprehension ensures that duplicate authors are automatically handled.\n",
       "2. **Readability**: The `yield from` syntax allows the creator of the generator to keep the code clean and clear, especially when yielding multiple values.\n",
       "3. **Lazy Evaluation**: This generator approach allows for values to be processed one at a time, which is more memory efficient than generating a complete list of authors upfront, especially if `books` is large.\n",
       "\n",
       "In summary, the code is designed to yield each unique author from a list of book dictionaries, skipping any book that does not have an author defined, and it does so in a way that is both memory and computation efficient."
      ],
      "text/plain": [
       "<IPython.core.display.Markdown object>"
      ]
     },
     "metadata": {},
     "output_type": "display_data"
    }
   ],
   "source": [
    "# Get gpt-4o-mini to answer, with streaming\n",
    "\n",
    "openai = OpenAI()\n",
    "\n",
    "stream = openai.chat.completions.create(\n",
    "    model=MODEL_GPT,\n",
    "    messages=[\n",
    "        {\"role\": \"user\", \"content\": question}\n",
    "      ],\n",
    "    stream=True\n",
    ")\n",
    "    \n",
    "response = \"\"\n",
    "display_handle = display(Markdown(\"\"), display_id=True)\n",
    "for chunk in stream:\n",
    "    response += chunk.choices[0].delta.content or ''\n",
    "    response = response.replace(\"```\",\"\").replace(\"markdown\", \"\")\n",
    "    update_display(Markdown(response), display_id=display_handle.display_id)\n",
    "\n"
   ]
  },
  {
   "cell_type": "code",
   "execution_count": null,
   "id": "8f7c8ea8-4082-4ad0-8751-3301adcf6538",
   "metadata": {},
   "outputs": [
    {
     "data": {
      "text/markdown": [
       "Okay, let's break down this Python code snippet:\n",
       "\n",
       "python\n",
       "yield from {book.get(\"author\") for book in books if book.get(\"author\")}\n",
       "\n",
       "\n",
       "**What the Code Does**\n",
       "\n",
       "This code is a generator expression that uses a `yield from` statement to produce a sequence of author names.  Here's a step-by-step explanation:\n",
       "\n",
       "1. **`books`:** This variable is assumed to be a list or iterable containing dictionaries. Each dictionary in the list represents a \"book.\"  Each book dictionary is expected to have a key named \"author.\"\n",
       "\n",
       "2. **`for book in books`:** This loop iterates through each dictionary (`book`) in the `books` collection.\n",
       "\n",
       "3. **`if book.get(\"author\")`:**\n",
       "   - `book.get(\"author\")`: This is a safe way to access the value associated with the key \"author\" in the `book` dictionary.  The `.get()` method is used instead of direct dictionary access (`book[\"author\"]`) because `book[\"author\"]` would raise a `KeyError` if a book dictionary *doesn't* have an \"author\" key.  `.get()` returns `None` if the key is missing.\n",
       "   - `if book.get(\"author\")`: This condition is effectively a boolean"
      ],
      "text/plain": [
       "<IPython.core.display.Markdown object>"
      ]
     },
     "metadata": {},
     "output_type": "display_data"
    }
   ],
   "source": [
    "# Get Llama 3.2 to answer\n",
    "\n",
    "openai = OpenAI(base_url='http://localhost:11434/v1', api_key='ollama')\n",
    "\n",
    "stream = openai.chat.completions.create(\n",
    "    model=MODEL_LLAMA,\n",
    "    messages=[\n",
    "        {\"role\": \"user\", \"content\": question}\n",
    "      ],\n",
    "    stream=True\n",
    ")\n",
    "    \n",
    "response = \"\"\n",
    "display_handle = display(Markdown(\"\"), display_id=True)\n",
    "for chunk in stream:\n",
    "    response += chunk.choices[0].delta.content or ''\n",
    "    response = response.replace(\"```\",\"\").replace(\"markdown\", \"\")\n",
    "    update_display(Markdown(response), display_id=display_handle.display_id)\n"
   ]
  }
 ],
 "metadata": {
  "kernelspec": {
   "display_name": "Python 3 (ipykernel)",
   "language": "python",
   "name": "python3"
  },
  "language_info": {
   "codemirror_mode": {
    "name": "ipython",
    "version": 3
   },
   "file_extension": ".py",
   "mimetype": "text/x-python",
   "name": "python",
   "nbconvert_exporter": "python",
   "pygments_lexer": "ipython3",
   "version": "3.11.12"
  }
 },
 "nbformat": 4,
 "nbformat_minor": 5
}
